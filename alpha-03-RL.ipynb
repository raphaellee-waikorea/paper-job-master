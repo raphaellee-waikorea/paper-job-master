{
 "cells": [
  {
   "cell_type": "markdown",
   "metadata": {},
   "source": [
    "# 0.라이브러리 임포트"
   ]
  },
  {
   "cell_type": "code",
   "execution_count": null,
   "metadata": {},
   "outputs": [],
   "source": [
    "import multiprocessing\n",
    "import os\n",
    "import pandas\n",
    "\n",
    "import seaborn as sns\n",
    "import matplotlib.pyplot as plt\n",
    "import matplotlib.font_manager as fm"
   ]
  },
  {
   "cell_type": "code",
   "execution_count": null,
   "metadata": {},
   "outputs": [],
   "source": [
    "# 자체 제작 함수 모음\n",
    "import alpha_functions"
   ]
  },
  {
   "cell_type": "markdown",
   "metadata": {},
   "source": [
    "# 1.시각화 관련 설정"
   ]
  },
  {
   "cell_type": "code",
   "execution_count": null,
   "metadata": {},
   "outputs": [],
   "source": [
    "%matplotlib inline\n",
    "plt.rcParams['font.size'] = 20\n",
    "plt.rcParams[\"figure.figsize\"] = (50, 30)\n",
    "plt.rcParams['lines.linewidth'] = 2\n",
    "plt.rcParams[\"axes.grid\"] = True"
   ]
  },
  {
   "cell_type": "code",
   "execution_count": null,
   "metadata": {},
   "outputs": [],
   "source": [
    "%%html\n",
    "<style>\n",
    "    table { display: inline-block }\n",
    "    .rendered_html td, .rendered_html th { text-align: left; }\n",
    "</style>"
   ]
  },
  {
   "cell_type": "markdown",
   "metadata": {},
   "source": [
    "# 2. 데이터 로딩"
   ]
  },
  {
   "cell_type": "code",
   "execution_count": null,
   "metadata": {},
   "outputs": [],
   "source": [
    "df_prices = pandas.read_csv('data-0201-base.csv')\n",
    "df_prices = df_prices.set_index(['기준일자'])\n",
    "display(df_prices)\n",
    "df_markov = pandas.read_csv('data-0203-markov.csv')\n",
    "df_markov = df_markov.set_index(['기준일자'])\n",
    "display(df_markov)\n",
    "df_base = df_markov.join(df_prices, how='left')\n",
    "display(df_base)"
   ]
  },
  {
   "cell_type": "markdown",
   "metadata": {},
   "source": [
    "# 4.시뮬레이션 실행 - A2C"
   ]
  },
  {
   "cell_type": "code",
   "execution_count": null,
   "metadata": {},
   "outputs": [],
   "source": [
    "import warnings\n",
    "warnings.filterwarnings('ignore')\n",
    "\n",
    "window_size = 490\n",
    "start_date = 20030101\n",
    "\n",
    "list_algorithm = [ 'A2C', 'TD3', 'PPO', 'DDPG', 'SAC']\n",
    "for algorithm_name in list_algorithm:\n",
    "    timesteps = 25000\n",
    "    rebalance_count = 10\n",
    "    policy = 'MlpPolicy'\n",
    "\n",
    "    if not os.path.exists('./data'):\n",
    "        os.mkdir('./data')\n",
    "    if not os.path.exists('./data/' + algorithm_name):\n",
    "        os.mkdir('./data/' + algorithm_name)\n",
    "\n",
    "    dict_asset_hold = dict()\n",
    "    list_tickers = [\n",
    "        'A005930-삼성전자-종가',\n",
    "        'A000660-SK하이닉스-종가',\n",
    "        'A006400-삼성SDI-종가',\n",
    "        'A005380-현대차-종가',\n",
    "        'A000270-기아-종가',\n",
    "        'A005490-POSCO홀딩스-종가',\n",
    "        'A012330-현대모비스-종가',\n",
    "        'A015760-한국전력-종가',\n",
    "        'A033780-KT&G-종가',\n",
    "        'A003550-LG-종가',\n",
    "    ]\n",
    "    for ticker in list_tickers:\n",
    "        dict_asset_hold[ticker] = 0\n",
    "    dict_asset_hold['A999999'] = 1000000000\n",
    "\n",
    "    df_portfolio_ratio = pandas.DataFrame()\n",
    "    list_jobs = list()\n",
    "    for day, row in df_base.iterrows():\n",
    "        if day < start_date:\n",
    "            continue\n",
    "\n",
    "        list_asset = list()\n",
    "        dict_asset = dict()\n",
    "        dict_asset['기준일자'] = day\n",
    "\n",
    "        df_part = df_base[df_base.index < day]\n",
    "        df_part = df_part.tail(window_size)\n",
    "\n",
    "        dict_param = dict()\n",
    "        dict_param['table'] = df_part\n",
    "        dict_param['rebalance_count'] = rebalance_count\n",
    "        dict_param['std_date'] = day\n",
    "        dict_param['list_code'] = list_tickers\n",
    "        dict_param['algorithm'] = algorithm_name\n",
    "        dict_param['policy'] = policy\n",
    "        dict_param['timesteps'] = timesteps\n",
    "        dict_param['file_name'] = './data/' + algorithm_name + '/' + str(day) + '.csv'\n",
    "\n",
    "        list_jobs.append(dict_param)\n",
    "\n",
    "    p = multiprocessing.Pool(int(multiprocessing.cpu_count() / 3 * 2))\n",
    "    p.map(alpha_functions.execute_daily, list_jobs)\n"
   ]
  },
  {
   "cell_type": "code",
   "execution_count": null,
   "metadata": {},
   "outputs": [],
   "source": []
  }
 ],
 "metadata": {
  "kernelspec": {
   "display_name": "python3",
   "language": "python",
   "name": "python3"
  },
  "language_info": {
   "codemirror_mode": {
    "name": "ipython",
    "version": 3
   },
   "file_extension": ".py",
   "mimetype": "text/x-python",
   "name": "python",
   "nbconvert_exporter": "python",
   "pygments_lexer": "ipython3",
   "version": "3.9.16"
  }
 },
 "nbformat": 4,
 "nbformat_minor": 2
}

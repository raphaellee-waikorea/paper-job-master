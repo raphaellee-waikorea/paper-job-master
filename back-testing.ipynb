{
 "cells": [
  {
   "cell_type": "markdown",
   "metadata": {},
   "source": [
    "# 1. 데이터 및 알고리즘 정의"
   ]
  },
  {
   "cell_type": "markdown",
   "metadata": {},
   "source": [
    "### 1.1 데이터 기간 (20년간)\n",
    "- 2003/01/01 ~ 2022/12/31"
   ]
  },
  {
   "cell_type": "markdown",
   "metadata": {},
   "source": [
    "### 1.2 대상 종목\n",
    "\n",
    "- Kospi 지수\n",
    "\n",
    "- 종목 목록\n",
    "\n",
    "|종목코드|종목명|\n",
    "|:---:|:---:|\n",
    "|A005930|삼성전자|\n",
    "|A000660|SK하이닉스|\n",
    "|A005490|POSCO홀딩스|\n",
    "|A006400|삼성SDI|\n",
    "|A051910|LG화학|\n",
    "|A005380|현대차\n",
    "|A035420|NAVER|\n",
    "|A003670|포스코퓨처엠|\n",
    "|A000270|기아\n",
    "|A012330|현대모비스|\n",
    "|A035720|카카오\n",
    "|A055550|신한지주|\n",
    "|A066570|LG전자|"
   ]
  },
  {
   "cell_type": "markdown",
   "metadata": {},
   "source": [
    "### 1.3 Back-testing 대상 알고리즘\n",
    "\n",
    "|약어|내용|\n",
    "|:---:|:---|\n",
    "|EQ|동등 배분|\n",
    "|MPT-SR|Modern Portfolio Theory - Sharp Ratio maximum|\n",
    "|MPT-MV|Modern Portfolio Theory - Variance minimum|\n",
    "|MPT-TR|Modern Portfolio Theory - Tangent Ratio maximum|\n",
    "|RL-DDPG|DDPG 알고리즘|\n",
    "|RL-A2C|A2C 알고리즘|\n",
    "|RL-SAC|SAC 알고리즘|\n",
    "|RL-TD3|TD3 알고리즘|\n",
    "|RL-PPO|PPO 알고리즘|"
   ]
  },
  {
   "cell_type": "code",
   "execution_count": null,
   "metadata": {},
   "outputs": [],
   "source": []
  },
  {
   "cell_type": "markdown",
   "metadata": {},
   "source": [
    "# 2. 데이터 생성"
   ]
  },
  {
   "cell_type": "markdown",
   "metadata": {},
   "source": [
    "### 2.1 국면 전환 데이터 생성"
   ]
  },
  {
   "cell_type": "markdown",
   "metadata": {},
   "source": [
    "### 2.2 MPT 관련 비율 생성"
   ]
  },
  {
   "cell_type": "markdown",
   "metadata": {},
   "source": []
  },
  {
   "cell_type": "markdown",
   "metadata": {},
   "source": [
    "### 2.3 R.L 관련 비율 생성"
   ]
  },
  {
   "cell_type": "markdown",
   "metadata": {},
   "source": []
  },
  {
   "cell_type": "markdown",
   "metadata": {},
   "source": [
    "# 3. 기준 설정"
   ]
  },
  {
   "cell_type": "markdown",
   "metadata": {},
   "source": [
    "### 3.1 매매 기준 설정"
   ]
  },
  {
   "cell_type": "markdown",
   "metadata": {},
   "source": [
    "|구분|내용|\n",
    "|:---:|:---|\n",
    "|규칙 1|코스피 수익률을 벤치마크 지수로 한다.(로그 수익률로 설정)|\n",
    "|규칙 2|매매수수료는 없다고 가정한다.|\n",
    "|규칙 3|시장 상황에 유동성이 충분하여 거래 즉시 체결이 된다고 가정한다.|\n",
    "|규칙 4|100억을 운용한다고 가정한다.|\n",
    "|규칙 5|...|\n",
    "|규칙 6|...|\n",
    "|규칙 7|...|\n"
   ]
  },
  {
   "cell_type": "markdown",
   "metadata": {},
   "source": [
    "### 3.2 KOSPI 수익률 생성 (Benchmark profit ratio)"
   ]
  },
  {
   "cell_type": "markdown",
   "metadata": {},
   "source": [
    "# 4. Back-testing 실행"
   ]
  },
  {
   "cell_type": "markdown",
   "metadata": {},
   "source": [
    "# 6. MPT 관련 "
   ]
  }
 ],
 "metadata": {
  "language_info": {
   "name": "python"
  },
  "orig_nbformat": 4
 },
 "nbformat": 4,
 "nbformat_minor": 2
}

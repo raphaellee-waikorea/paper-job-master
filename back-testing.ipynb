{
 "cells": [
  {
   "cell_type": "markdown",
   "metadata": {},
   "source": [
    "# 대상 종목\n",
    "- Kospi 지수\n",
    "- A005930:::삼성전자\n",
    "- A000660:::SK하이닉스\n",
    "- A005490:::POSCO홀딩스\n",
    "- A006400:::삼성SDI\n",
    "- A051910:::LG화학\n",
    "- A005380:::현대차\n",
    "- A035420:::NAVER\n",
    "- A003670:::포스코퓨처엠\n",
    "- A000270:::기아\n",
    "- A012330:::현대모비스\n",
    "- A035720:::카카오\n",
    "- A055550:::신한지주\n",
    "- A066570:::LG전자"
   ]
  },
  {
   "cell_type": "code",
   "execution_count": null,
   "metadata": {},
   "outputs": [],
   "source": []
  }
 ],
 "metadata": {
  "language_info": {
   "name": "python"
  },
  "orig_nbformat": 4
 },
 "nbformat": 4,
 "nbformat_minor": 2
}

{
 "cells": [
  {
   "cell_type": "markdown",
   "metadata": {},
   "source": [
    "# 0. 라이브러리 임포트"
   ]
  },
  {
   "cell_type": "code",
   "execution_count": null,
   "metadata": {},
   "outputs": [],
   "source": [
    "import numpy\n",
    "import pandas\n",
    "\n",
    "import seaborn as sns\n",
    "import matplotlib.pyplot as plt\n",
    "import matplotlib.font_manager as fm"
   ]
  },
  {
   "cell_type": "markdown",
   "metadata": {},
   "source": [
    "# 1. 시각화 관련 설정"
   ]
  },
  {
   "cell_type": "code",
   "execution_count": null,
   "metadata": {},
   "outputs": [],
   "source": [
    "%matplotlib inline\n",
    "plt.rcParams['font.size'] = 20\n",
    "plt.rcParams[\"figure.figsize\"] = (50, 30)\n",
    "plt.rcParams['lines.linewidth'] = 2\n",
    "plt.rcParams[\"axes.grid\"] = True"
   ]
  },
  {
   "cell_type": "code",
   "execution_count": null,
   "metadata": {},
   "outputs": [],
   "source": [
    "%%html\n",
    "<style>\n",
    "    table { display: inline-block }\n",
    "    .rendered_html td, .rendered_html th { text-align: left; }\n",
    "</style>"
   ]
  },
  {
   "cell_type": "markdown",
   "metadata": {},
   "source": [
    "# 2. 데이터 로딩"
   ]
  },
  {
   "cell_type": "code",
   "execution_count": null,
   "metadata": {},
   "outputs": [],
   "source": [
    "df_base = pandas.read_csv('data-0201-base.csv')\n",
    "display(df_base)"
   ]
  },
  {
   "cell_type": "markdown",
   "metadata": {},
   "source": [
    "# 3. 10개 종목 종가에 대한 포트폴리오 비중 데이터 생성"
   ]
  },
  {
   "cell_type": "code",
   "execution_count": null,
   "metadata": {},
   "outputs": [],
   "source": [
    "ASSET_COUNT = 10\n",
    "\n",
    "import warnings\n",
    "warnings.filterwarnings('ignore')\n",
    "\n",
    "window_size = 490\n",
    "start_date = 20030101\n",
    "\n",
    "df_mpt_base = df_base.copy()\n",
    "df_days = df_mpt_base[df_mpt_base['기준일자'] > start_date]\n",
    "list_days = df_days['기준일자'].tolist()\n",
    "list_days.sort()\n",
    "\n",
    "list_cols_mpt = ['기준일자']\n",
    "for col_name in df_mpt_base.columns:\n",
    "    if '종가' in col_name:\n",
    "        list_cols_mpt.append(col_name)\n",
    "df_mpt = df_mpt_base[list_cols_mpt]\n",
    "del df_mpt['KOSPI지수-종가']\n",
    "display(df_mpt)\n",
    "\n",
    "df_mpt_merged = pandas.DataFrame()\n",
    "for day in list_days:\n",
    "    print('종가(KOSPI지수 제외)의 포트폴리오 배분 데이터 생성', day)\n",
    "    df_part = df_mpt[df_mpt['기준일자'] < day]\n",
    "    df_part = df_part.tail(490)\n",
    "    df_part = df_part.set_index(['기준일자'])\n",
    "\n",
    "    returns_daily = df_part.pct_change()\n",
    "    returns_annual = returns_daily.mean() * window_size\n",
    "\n",
    "    cov_daily = returns_daily.cov()\n",
    "    cov_annual = cov_daily * window_size\n",
    "\n",
    "    list_port_returns = list()\n",
    "    list_port_volatility = list()\n",
    "    list_sharpe_ratio = list()\n",
    "    list_stock_weights = list()\n",
    "\n",
    "    num_portfolios = 50000\n",
    "    numpy.random.seed(524)\n",
    "\n",
    "    for _ in range(num_portfolios):\n",
    "        weights = numpy.random.random(ASSET_COUNT)\n",
    "        weights /= numpy.sum(weights)\n",
    "        returns = numpy.dot(weights, returns_annual)\n",
    "        volatility = numpy.sqrt(numpy.dot(weights.T, numpy.dot(cov_annual, weights)))\n",
    "\n",
    "        sharpe = returns / volatility\n",
    "        list_sharpe_ratio.append(sharpe)\n",
    "        list_port_returns.append(returns)\n",
    "        list_port_volatility.append(volatility)\n",
    "\n",
    "        list_stock_weights.append(weights)\n",
    "\n",
    "    portfolio = {\n",
    "        'Returns': list_port_returns,\n",
    "        'Volatility': list_port_volatility,\n",
    "        'Sharpe Ratio': list_sharpe_ratio,\n",
    "    }\n",
    "    for counter, symbol in enumerate(cov_annual.columns):\n",
    "        portfolio[symbol.replace('-price_close', '')] = [Weight[counter] for Weight in list_stock_weights]\n",
    "    df = pandas.DataFrame(portfolio)\n",
    "    df_ratio = df.loc[df['Sharpe Ratio'] == numpy.max(df['Sharpe Ratio'])]\n",
    "    df_ratio['TYPE'] = 'A'\n",
    "    df_ratio['기준일자'] = day\n",
    "    df_mpt_merged = pandas.concat([df_mpt_merged, df_ratio], sort=False)\n",
    "    df_ratio = df.loc[df['Volatility'] == numpy.min(df['Volatility'])]\n",
    "    df_ratio['TYPE'] = 'B'\n",
    "    df_ratio['기준일자'] = day\n",
    "    df_mpt_merged = pandas.concat([df_mpt_merged, df_ratio], sort=False)\n",
    "\n",
    "display(df_mpt_merged)"
   ]
  },
  {
   "cell_type": "code",
   "execution_count": null,
   "metadata": {},
   "outputs": [],
   "source": [
    "df_mpt_merged_A = df_mpt_merged[df_mpt_merged['TYPE'] == 'A']\n",
    "df_mpt_merged_A = df_mpt_merged_A[[\n",
    "                            '기준일자',\n",
    "                            'Returns',\n",
    "                            'Volatility',\n",
    "                            'Sharpe Ratio',\n",
    "                            'A005930-삼성전자-종가',\n",
    "                            'A000660-SK하이닉스-종가',\n",
    "                            'A006400-삼성SDI-종가',\n",
    "                            'A005380-현대차-종가',\n",
    "                            'A000270-기아-종가',\n",
    "                            'A005490-POSCO홀딩스-종가',\n",
    "                            'A012330-현대모비스-종가',\n",
    "                            'A015760-한국전력-종가',\n",
    "                            'A033780-KT&G-종가',\n",
    "                            'A003550-LG-종가'\n",
    "                            ]]\n",
    "df_mpt_merged_A.to_csv('data-0202-mpt-A.csv', index=None)"
   ]
  },
  {
   "cell_type": "code",
   "execution_count": null,
   "metadata": {},
   "outputs": [],
   "source": [
    "df_mpt_merged_B = df_mpt_merged[df_mpt_merged['TYPE'] == 'B']\n",
    "df_mpt_merged_B = df_mpt_merged_B[[\n",
    "                            '기준일자',\n",
    "                            'Returns',\n",
    "                            'Volatility',\n",
    "                            'Sharpe Ratio',\n",
    "                            'A005930-삼성전자-종가',\n",
    "                            'A000660-SK하이닉스-종가',\n",
    "                            'A006400-삼성SDI-종가',\n",
    "                            'A005380-현대차-종가',\n",
    "                            'A000270-기아-종가',\n",
    "                            'A005490-POSCO홀딩스-종가',\n",
    "                            'A012330-현대모비스-종가',\n",
    "                            'A015760-한국전력-종가',\n",
    "                            'A033780-KT&G-종가',\n",
    "                            'A003550-LG-종가'\n",
    "                            ]]\n",
    "df_mpt_merged_B.to_csv('data-0202-mpt-B.csv', index=None)"
   ]
  }
 ],
 "metadata": {
  "kernelspec": {
   "display_name": "python3",
   "language": "python",
   "name": "python3"
  },
  "language_info": {
   "codemirror_mode": {
    "name": "ipython",
    "version": 3
   },
   "file_extension": ".py",
   "mimetype": "text/x-python",
   "name": "python",
   "nbconvert_exporter": "python",
   "pygments_lexer": "ipython3",
   "version": "3.9.16"
  }
 },
 "nbformat": 4,
 "nbformat_minor": 2
}
